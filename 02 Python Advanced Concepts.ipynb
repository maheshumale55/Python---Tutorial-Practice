{
 "cells": [
  {
   "cell_type": "markdown",
   "id": "fc5bf923-1dfe-4b2a-bbf6-4b6d4f09db2a",
   "metadata": {},
   "source": [
    "## Pythno Advanced Concepts"
   ]
  },
  {
   "cell_type": "markdown",
   "id": "22e905ff-8c93-4310-8cbc-527423c55106",
   "metadata": {
    "jp-MarkdownHeadingCollapsed": true
   },
   "source": [
    "#### lambda"
   ]
  },
  {
   "cell_type": "code",
   "execution_count": 2,
   "id": "170546d7-f6e3-4583-98f0-ff57e7b16c03",
   "metadata": {},
   "outputs": [
    {
     "name": "stdout",
     "output_type": "stream",
     "text": [
      "[1, 5, 3, 1, 5, 3]\n"
     ]
    }
   ],
   "source": [
    "# Lambda is a small function that can have any number of arguments but only one expression, by using lambda keyword we can write very short code\n",
    "\n",
    "x = [1, 5, 3]\n",
    "c = lambda i: x*2\n",
    "print(c(2))"
   ]
  },
  {
   "cell_type": "markdown",
   "id": "e477f3f9-a1c6-4711-96b9-3a83e016a688",
   "metadata": {
    "jp-MarkdownHeadingCollapsed": true
   },
   "source": [
    "#### filter()"
   ]
  },
  {
   "cell_type": "code",
   "execution_count": 2,
   "id": "2cd0c378-8b6d-4648-a079-38f5491403c7",
   "metadata": {},
   "outputs": [
    {
     "name": "stdout",
     "output_type": "stream",
     "text": [
      "[2, 4, 6]\n"
     ]
    }
   ],
   "source": [
    "# filter() function returns True if the condition matches\n",
    "\n",
    "numbers = [2, 5, 4, 6, 7]\n",
    "\n",
    "res = list(filter(lambda x: x%2 == 0, numbers))\n",
    "print(res)"
   ]
  },
  {
   "cell_type": "markdown",
   "id": "8b256dee-7c83-4ff6-9424-b706cd198f16",
   "metadata": {
    "jp-MarkdownHeadingCollapsed": true
   },
   "source": [
    "#### Map()"
   ]
  },
  {
   "cell_type": "code",
   "execution_count": 3,
   "id": "97291f23-3a59-458a-8d9b-cab694dc5686",
   "metadata": {},
   "outputs": [
    {
     "name": "stdout",
     "output_type": "stream",
     "text": [
      "[True, False, True, True, False]\n"
     ]
    }
   ],
   "source": [
    "# map() applies a given function to each item of an iterable and returns an iterator of the result\n",
    "\n",
    "numbers = [2, 5, 4, 6, 7]\n",
    "\n",
    "res = list(map(lambda x: x%2 == 0, numbers))\n",
    "print(res)"
   ]
  },
  {
   "cell_type": "code",
   "execution_count": 4,
   "id": "036025af-c9d7-4257-a997-e6238ae99119",
   "metadata": {},
   "outputs": [
    {
     "name": "stdout",
     "output_type": "stream",
     "text": [
      "[8, 125, 216, 64, 729]\n"
     ]
    }
   ],
   "source": [
    "list1 = [2, 5, 6, 4, 9]\n",
    "list2 = [1, 5, 6, 7, 8]\n",
    "\n",
    "def func2(val):\n",
    "    return val**3\n",
    "def func(val):\n",
    "    return val*2\n",
    "res = list(map(func, list1))\n",
    "res2 = list(map(func2, list1))\n",
    "print(res2)"
   ]
  },
  {
   "cell_type": "markdown",
   "id": "10287445-8ca6-4a9e-8b29-4099a5759315",
   "metadata": {
    "jp-MarkdownHeadingCollapsed": true
   },
   "source": [
    "#### Decorators\n",
    "\n",
    "Functions that modify the behavior of other functions. They are used for logging, access control, etc."
   ]
  },
  {
   "cell_type": "code",
   "execution_count": null,
   "id": "7cff33e4-17c2-4927-b12c-d56346e75ccf",
   "metadata": {},
   "outputs": [],
   "source": [
    "def func1(func):\n",
    "    def new():\n",
    "        print(\"This is secord function\")\n",
    "        func()\n",
    "    return new\n",
    "\n",
    "@func1\n",
    "def hi():\n",
    "    print(\"Hi\")\n",
    "\n",
    "hi()"
   ]
  },
  {
   "cell_type": "markdown",
   "id": "2d5b6158-cb7b-4d41-b6d0-390b9ed0fc32",
   "metadata": {
    "jp-MarkdownHeadingCollapsed": true
   },
   "source": [
    "#### Generators\n",
    "\n",
    "Functions that yield items one at a time using 'yield' keyword, making efficient for handling large data"
   ]
  },
  {
   "cell_type": "code",
   "execution_count": 2,
   "id": "bd7a7d27-67ab-4da7-bc5d-ebb267162ebc",
   "metadata": {},
   "outputs": [
    {
     "name": "stdout",
     "output_type": "stream",
     "text": [
      "1\n",
      "2\n",
      "3\n",
      "4\n",
      "5\n"
     ]
    }
   ],
   "source": [
    "for i in range(10):\n",
    "    yield \n",
    "\n",
    "def count_up_to(max):\n",
    "    count = 1\n",
    "    while count <= max:\n",
    "        yield count\n",
    "        count += 1\n",
    "for number in count_up_to(5):\n",
    "    print(number)"
   ]
  },
  {
   "cell_type": "markdown",
   "id": "a83fdf3e-3ae1-495f-91b6-c656760c8674",
   "metadata": {
    "jp-MarkdownHeadingCollapsed": true
   },
   "source": [
    "#### Type Hints\n",
    "Provide hints for the types of variables and function returns, improving code readability and type checking."
   ]
  },
  {
   "cell_type": "code",
   "execution_count": null,
   "id": "f84f3702-2ceb-4400-9614-2e6e4be64d88",
   "metadata": {},
   "outputs": [],
   "source": [
    "def add(a: int, b: int) -> int:\n",
    "    return a + b\n",
    "\n",
    "result: int = add(3, 4)\n",
    "print(result)"
   ]
  },
  {
   "cell_type": "markdown",
   "id": "1ae8a721-8583-4ee8-b329-ff0b1ac1cac1",
   "metadata": {},
   "source": [
    "#### Descriptors\n",
    "Objects that define __get__, __set__, and __delete__ methods for attribute access management."
   ]
  },
  {
   "cell_type": "code",
   "execution_count": null,
   "id": "bb414333-cc68-4141-bddd-2f275778a121",
   "metadata": {},
   "outputs": [],
   "source": [
    "class Descriptor:\n",
    "    def __get__(self, instance, owner):\n",
    "        return 'descriptor value'\n",
    "\n",
    "class MyClass:\n",
    "    attr = Descriptor()\n",
    "\n",
    "obj = MyClass()\n",
    "print(obj.attr)"
   ]
  },
  {
   "cell_type": "markdown",
   "id": "5d9da210-9a3e-41a9-aff5-433868295160",
   "metadata": {},
   "source": [
    "#### Metaclass\n",
    "Metaclasses in Python are a way to control the creation and behavior of classes. They define how classes themselves are created and can be used to modify class instantiation, behavior, or attributes."
   ]
  },
  {
   "cell_type": "code",
   "execution_count": null,
   "id": "78eae1ca-082b-46be-adb5-4ab353ec47a9",
   "metadata": {},
   "outputs": [],
   "source": [
    "# Define a metaclass\n",
    "class Meta(type):\n",
    "    def __new__(cls, name, bases, dct):\n",
    "        dct['greeting'] = 'Hello from Meta!'\n",
    "        return super().__new__(cls, name, bases, dct)\n",
    "\n",
    "# Define a class using the metaclass\n",
    "class MyClass(metaclass=Meta):\n",
    "    pass\n",
    "\n",
    "# Create an instance of MyClass\n",
    "obj = MyClass()\n",
    "print(obj.greeting)  # Output: Hello from Meta!\n"
   ]
  },
  {
   "cell_type": "markdown",
   "id": "b3a931b2-6264-45fc-a11a-632579f875b3",
   "metadata": {},
   "source": [
    "#### Explore more to ace in your career ! Good Luck !!"
   ]
  }
 ],
 "metadata": {
  "kernelspec": {
   "display_name": "Python 3 (ipykernel)",
   "language": "python",
   "name": "python3"
  },
  "language_info": {
   "codemirror_mode": {
    "name": "ipython",
    "version": 3
   },
   "file_extension": ".py",
   "mimetype": "text/x-python",
   "name": "python",
   "nbconvert_exporter": "python",
   "pygments_lexer": "ipython3",
   "version": "3.12.4"
  }
 },
 "nbformat": 4,
 "nbformat_minor": 5
}
