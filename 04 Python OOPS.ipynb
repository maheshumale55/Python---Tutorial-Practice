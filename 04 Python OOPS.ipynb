{
 "cells": [
  {
   "cell_type": "markdown",
   "id": "3e046eaf-8e4e-41ea-bfda-d46fd939c144",
   "metadata": {},
   "source": [
    "## Python OOPS Concepts"
   ]
  },
  {
   "cell_type": "markdown",
   "id": "c3af0da1-6397-44ab-b28c-2c2dbe6808b6",
   "metadata": {},
   "source": [
    "#### Class & Object"
   ]
  },
  {
   "cell_type": "markdown",
   "id": "66755fed-1df6-42e7-a5cf-c1b6a9901a3c",
   "metadata": {},
   "source": [
    "Class:\n",
    "The class creates a user-defined data structure, which holds its own data members and member functions, which can be accessed and used by creating an instance of that class. A class is like a blueprint for an object.\n",
    "\n",
    "Objects:\n",
    "An object is a particular instance of a class with unique characteristics and functions. After a class has been established, you may make objects based on it. By using the class constructor, you may create an object of a class in Python. The object's attributes are initialised in the constructor, which is a special procedure with the name __init__.\n",
    "\n",
    "                                                                                                                                                       "
   ]
  },
  {
   "cell_type": "code",
   "execution_count": null,
   "id": "d0c73e44-ccc9-4bc6-abcd-80c9a27400b7",
   "metadata": {},
   "outputs": [],
   "source": [
    "class Person:\n",
    "  def __init__(self, name, age):\n",
    "    self.name = name\n",
    "    self.age = age\n",
    "\n",
    "p1 = Person(\"John\", 36)\n",
    "\n",
    "print(p1.name)\n",
    "print(p1.age)"
   ]
  },
  {
   "cell_type": "markdown",
   "id": "0b7bcde5-942e-4042-82b0-d8a85318fd20",
   "metadata": {},
   "source": [
    "#### Inheritance:\n",
    "Inheritance provides code reusability to the program because we can use an existing class to create a new class instead of creating it from scratch.\n",
    "\n",
    "In inheritance, the child class acquires the properties and can access all the data members and functions defined in the parent class. A child class can also provide its specific implementation to the functions of the parent class. "
   ]
  },
  {
   "cell_type": "code",
   "execution_count": 4,
   "id": "02e4f94c-feda-4495-bbd2-a1ed3d4d0821",
   "metadata": {},
   "outputs": [
    {
     "name": "stdout",
     "output_type": "stream",
     "text": [
      "Dog barks\n",
      "Eats\n",
      "Dog barks\n",
      "Eats\n"
     ]
    }
   ],
   "source": [
    "class Animal:\n",
    "    def Dog(self):\n",
    "        print(\"Dog barks\")\n",
    "class Mammal(Animal):\n",
    "    def eat(self):\n",
    "        print(\"Eats\")\n",
    "\n",
    "class Animals(Mammal, Animal):\n",
    "    pass\n",
    "\n",
    "m = Mammal()\n",
    "m.Dog()\n",
    "m.eat()\n",
    "\n",
    "a = Animals()\n",
    "\n",
    "a.Dog()\n",
    "a.eat()"
   ]
  },
  {
   "cell_type": "markdown",
   "id": "afec54fb-8284-48a0-86a6-6266d1f7388f",
   "metadata": {},
   "source": [
    "#### Data abstraction\n",
    "\n",
    "Abstraction is an important aspect of object-oriented programming. In python, we can also perform data hiding by adding the double underscore (___) as a prefix to the attribute which is to be hidden. After this, the attribute will not be visible outside of the class through the object."
   ]
  },
  {
   "cell_type": "code",
   "execution_count": 10,
   "id": "64c31e9f-6001-419d-90a5-330f8cdf8bbb",
   "metadata": {},
   "outputs": [
    {
     "name": "stdout",
     "output_type": "stream",
     "text": [
      "The number of employees:  1\n",
      "Mahesh\n"
     ]
    },
    {
     "ename": "AttributeError",
     "evalue": "'Employee' object has no attribute '__count'",
     "output_type": "error",
     "traceback": [
      "\u001b[1;31m---------------------------------------------------------------------------\u001b[0m",
      "\u001b[1;31mAttributeError\u001b[0m                            Traceback (most recent call last)",
      "Cell \u001b[1;32mIn[10], line 12\u001b[0m\n\u001b[0;32m     10\u001b[0m emp\u001b[38;5;241m.\u001b[39mdisplay()\n\u001b[0;32m     11\u001b[0m \u001b[38;5;28mprint\u001b[39m(emp\u001b[38;5;241m.\u001b[39mname)\n\u001b[1;32m---> 12\u001b[0m \u001b[38;5;28mprint\u001b[39m(\u001b[43memp\u001b[49m\u001b[38;5;241;43m.\u001b[39;49m\u001b[43m__count\u001b[49m)\n",
      "\u001b[1;31mAttributeError\u001b[0m: 'Employee' object has no attribute '__count'"
     ]
    }
   ],
   "source": [
    "class Employee:\n",
    "    __count = 0\n",
    "    name = \"Mahesh\"\n",
    "    def __init__(self):\n",
    "        Employee.__count = Employee.__count + 1\n",
    "    def display(self):\n",
    "        print(\"The number of employees: \", Employee.__count)\n",
    "emp = Employee()\n",
    "\n",
    "emp.display()\n",
    "print(emp.name)\n",
    "print(emp.__count)\n"
   ]
  },
  {
   "cell_type": "markdown",
   "id": "f1c768dd-9772-42f1-94dc-9ee276d525b5",
   "metadata": {},
   "source": [
    "#### Explore more to ace in your career ! Good Luck !!"
   ]
  }
 ],
 "metadata": {
  "kernelspec": {
   "display_name": "Python 3 (ipykernel)",
   "language": "python",
   "name": "python3"
  },
  "language_info": {
   "codemirror_mode": {
    "name": "ipython",
    "version": 3
   },
   "file_extension": ".py",
   "mimetype": "text/x-python",
   "name": "python",
   "nbconvert_exporter": "python",
   "pygments_lexer": "ipython3",
   "version": "3.12.4"
  }
 },
 "nbformat": 4,
 "nbformat_minor": 5
}
