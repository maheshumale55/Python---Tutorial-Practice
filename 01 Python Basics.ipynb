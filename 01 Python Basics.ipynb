{
 "cells": [
  {
   "cell_type": "markdown",
   "id": "8effe33b-6823-4c84-926e-6be262e522e6",
   "metadata": {
    "jp-MarkdownHeadingCollapsed": true
   },
   "source": [
    "#### Simple print() statement"
   ]
  },
  {
   "cell_type": "code",
   "execution_count": 39,
   "id": "eed29d03-00e9-41ec-9d47-901e2c964d2c",
   "metadata": {},
   "outputs": [
    {
     "name": "stdout",
     "output_type": "stream",
     "text": [
      "Hellow ABC\n"
     ]
    },
    {
     "name": "stdin",
     "output_type": "stream",
     "text": [
      "Enter any number 45\n"
     ]
    },
    {
     "name": "stdout",
     "output_type": "stream",
     "text": [
      "45\n",
      "Input type is:  <class 'str'>\n"
     ]
    },
    {
     "name": "stdin",
     "output_type": "stream",
     "text": [
      "Enter any number 23\n"
     ]
    },
    {
     "name": "stdout",
     "output_type": "stream",
     "text": [
      "23\n",
      "Input type is:  <class 'int'>\n"
     ]
    }
   ],
   "source": [
    "a = \"ABC\"\n",
    "print(\"Hellow\", a)\n",
    "\n",
    "# input\n",
    "\n",
    "num = input(\"Enter any number\")\n",
    "print(num)\n",
    "print(\"Input type is: \", type(num))\n",
    "\n",
    "num2 = int(input(\"Enter any number\"))\n",
    "print(num2)\n",
    "print(\"Input type is: \", type(num2))"
   ]
  },
  {
   "cell_type": "markdown",
   "id": "5259b550-6df6-4e07-a092-30fcc172a2df",
   "metadata": {
    "jp-MarkdownHeadingCollapsed": true
   },
   "source": [
    "#### Comments"
   ]
  },
  {
   "cell_type": "code",
   "execution_count": 13,
   "id": "c44d2095-fc99-44d3-91e1-9cb0a75c67a8",
   "metadata": {},
   "outputs": [
    {
     "name": "stdout",
     "output_type": "stream",
     "text": [
      "Hi\n"
     ]
    }
   ],
   "source": [
    "# Comments\n",
    "\n",
    "# Single lne comment\n",
    "\n",
    "\"\"\"\n",
    "Multiple lines comment\n",
    "\"\"\"\n",
    "'''\n",
    "Multiple lines comment\n",
    "'''\n",
    "\n",
    "print(\"Hi\")"
   ]
  },
  {
   "cell_type": "markdown",
   "id": "880b346d-7a52-4b7e-b24c-a940775f855d",
   "metadata": {
    "jp-MarkdownHeadingCollapsed": true
   },
   "source": [
    "#### Star Programs"
   ]
  },
  {
   "cell_type": "code",
   "execution_count": 18,
   "id": "cf12eba2-542b-4348-8433-4c75b7a92e98",
   "metadata": {},
   "outputs": [
    {
     "name": "stdout",
     "output_type": "stream",
     "text": [
      "\n",
      "*\n",
      "**\n",
      "***\n",
      "****\n",
      "*****\n"
     ]
    }
   ],
   "source": [
    "'''\n",
    "1.\n",
    "*\n",
    "**\n",
    "***\n",
    "****\n",
    "*****\n",
    "'''\n",
    "\n",
    "for i in range(6):\n",
    "    for j in range(i):\n",
    "        print(\"*\", end=\"\")\n",
    "    print()\n"
   ]
  },
  {
   "cell_type": "markdown",
   "id": "27930d76-8ba1-48a0-b290-76cb112f76d0",
   "metadata": {
    "jp-MarkdownHeadingCollapsed": true
   },
   "source": [
    "#### String"
   ]
  },
  {
   "cell_type": "code",
   "execution_count": 4,
   "id": "19c1a5aa-9ed9-4f64-8f58-43a55dc0fb69",
   "metadata": {},
   "outputs": [
    {
     "name": "stdout",
     "output_type": "stream",
     "text": [
      "******\n",
      "*****\n",
      "****\n",
      "***\n",
      "**\n",
      "*\n"
     ]
    }
   ],
   "source": [
    "'''\n",
    "2.\n",
    "*****\n",
    "****\n",
    "***\n",
    "**\n",
    "*\n",
    "'''\n",
    "\n",
    "for i in range(6, 0, -1):\n",
    "    for j in range(i):\n",
    "        print(\"*\", end=\"\")\n",
    "        \n",
    "    print()\n",
    "    i -= 1\n"
   ]
  },
  {
   "cell_type": "code",
   "execution_count": 14,
   "id": "7854ce75-f292-4945-9d75-8bb28e2f692f",
   "metadata": {},
   "outputs": [
    {
     "name": "stdout",
     "output_type": "stream",
     "text": [
      "ABCDEFGHIJKLMN\n",
      "BCDEFGHIJKLMN\n",
      "ABCDE\n",
      "JKL\n",
      "NMLKJIHGFEDCBA\n",
      "CE\n",
      "IK\n"
     ]
    }
   ],
   "source": [
    "# String slicing\n",
    "\n",
    "str1 = \"ABCDEFGHIJKLMN\"\n",
    "\n",
    "print(str1[:])\n",
    "print(str1[1:])\n",
    "print(str1[:5])\n",
    "print(str1[-5:-2])\n",
    "\n",
    "print(str1[::-1])\n",
    "print(str1[2:5:2])\n",
    "print(str1[-6:-2:2])"
   ]
  },
  {
   "cell_type": "code",
   "execution_count": 5,
   "id": "bc296f3d-c289-445a-b96d-4206e53b1498",
   "metadata": {},
   "outputs": [
    {
     "name": "stdout",
     "output_type": "stream",
     "text": [
      "ABC-@,\n",
      "ABC\n"
     ]
    }
   ],
   "source": [
    "# strip() - Removes any leading or trailing whitespaces, and other symbols, chars, mentioned in the function\n",
    "\n",
    "txt2 = \"  ----ABC-@, --  -\"\n",
    "print(txt2.strip(\"- \"))\n",
    "print(txt2.strip(\" -@,\"))"
   ]
  },
  {
   "cell_type": "code",
   "execution_count": 15,
   "id": "a32ebbbd-13c9-4bf6-9cdc-491300bdb775",
   "metadata": {},
   "outputs": [
    {
     "name": "stdout",
     "output_type": "stream",
     "text": [
      "['Abcdfhdskl']\n",
      "['M', 'heshUm', 'le', 'okjoj', 'ojoaoj']\n",
      "['M', 'heshUm', 'leaokjojaojoaoj']\n"
     ]
    }
   ],
   "source": [
    "# split() - Split a string into a list, each word is an item of the list\n",
    "\n",
    "txt2 = \"Abcdfhdskl\"\n",
    "txt3 = \"MaheshUmaleaokjojaojoaoj\"\n",
    "\n",
    "print(txt2.split(\"M\"))\n",
    "print(txt3.split('a', maxsplit=4))\n",
    "print(txt3.split('a', 2))"
   ]
  },
  {
   "cell_type": "code",
   "execution_count": 4,
   "id": "77e8ec21-faea-4c5a-83ce-04451c6473ae",
   "metadata": {},
   "outputs": [
    {
     "name": "stdout",
     "output_type": "stream",
     "text": [
      "My name is ABC\n",
      "My name is ABC, I'm 21\n",
      "My name is ABC, I'm 21\n"
     ]
    }
   ],
   "source": [
    "# .format method()\n",
    "\n",
    "txt1 = \"My name is {fname}\".format(fname='ABC')\n",
    "print(txt1)\n",
    "txt2 = \"My name is {}, I'm {}\".format(\"ABC\", 21)\n",
    "print(txt2)\n",
    "txt3 = \"My name is {1}, I'm {0}\".format(21, \"ABC\")\n",
    "print(txt3)"
   ]
  },
  {
   "cell_type": "markdown",
   "id": "3d36cc80-2d81-4785-ba44-28063430cfda",
   "metadata": {
    "jp-MarkdownHeadingCollapsed": true
   },
   "source": [
    "#### Loops"
   ]
  },
  {
   "cell_type": "code",
   "execution_count": 33,
   "id": "7d2adb51-dcb8-40f0-b58d-b94e76f996a2",
   "metadata": {},
   "outputs": [
    {
     "name": "stdout",
     "output_type": "stream",
     "text": [
      "2  4  6  8  10  12  14  16  18  0\n",
      "2  4  6  8  10  12  14  16  18  1\n",
      "2  4  6  8  10  12  14  16  18  2\n",
      "2  4  6  8  10  12  14  16  18  3\n",
      "2  4  6  8  10  12  14  16  18  4\n",
      "22  23  24  25  26  27  28  29  30  31  32  33  34  35  36  37  38  39  40  "
     ]
    }
   ],
   "source": [
    "# for loop\n",
    "\n",
    "for i in range(5):\n",
    "    for j in range(2, 20, 2):\n",
    "        print(j, \" \", end=\"\")\n",
    "    print(i)\n",
    "    \n",
    "# while loop\n",
    "\n",
    "k = 22\n",
    "while k<=40:\n",
    "    print(k, \" \", end = \"\")\n",
    "    k += 1"
   ]
  },
  {
   "cell_type": "markdown",
   "id": "45aad086-1af5-4d97-9082-a69df07ebd30",
   "metadata": {},
   "source": [
    "#### Conditional Statements"
   ]
  },
  {
   "cell_type": "code",
   "execution_count": 36,
   "id": "91143f4c-7540-4d81-8938-18259cacca22",
   "metadata": {},
   "outputs": [
    {
     "name": "stdin",
     "output_type": "stream",
     "text": [
      "Enter age 21\n"
     ]
    },
    {
     "name": "stdout",
     "output_type": "stream",
     "text": [
      "Let's vote\n"
     ]
    }
   ],
   "source": [
    "# if statement\n",
    "\n",
    "age = int(input(\"Enter age\"))\n",
    "if age < 18:\n",
    "    print(\"You are not eligible for voting\")\n",
    "if age >= 18:\n",
    "    print(\"Let's vote\")"
   ]
  },
  {
   "cell_type": "code",
   "execution_count": 55,
   "id": "75d6a98f-cf64-4063-aee1-549581034429",
   "metadata": {},
   "outputs": [
    {
     "name": "stdin",
     "output_type": "stream",
     "text": [
      "Enter age:  45\n"
     ]
    },
    {
     "name": "stdout",
     "output_type": "stream",
     "text": [
      "Let's vote\n",
      ":: Voting System ::\n"
     ]
    }
   ],
   "source": [
    "# if-elif-else statment\n",
    "\n",
    "try:\n",
    "    age = input(\"Enter age: \")\n",
    "    if int(age) < 18:\n",
    "        print(\"You are not eligible for voting\")\n",
    "        \n",
    "    elif int(age) >= 18:\n",
    "        print(\"Let's vote\")\n",
    "    \n",
    "except:\n",
    "    print(\"You have entered wrong input\")\n",
    "\n",
    "finally:\n",
    "    print(\":: Voting System ::\")"
   ]
  },
  {
   "cell_type": "markdown",
   "id": "ba11cf0d-83b9-4dba-8ebc-153fe59f6291",
   "metadata": {},
   "source": [
    "#### Explore more to ace in your career ! Good Luck !!"
   ]
  }
 ],
 "metadata": {
  "kernelspec": {
   "display_name": "Python 3 (ipykernel)",
   "language": "python",
   "name": "python3"
  },
  "language_info": {
   "codemirror_mode": {
    "name": "ipython",
    "version": 3
   },
   "file_extension": ".py",
   "mimetype": "text/x-python",
   "name": "python",
   "nbconvert_exporter": "python",
   "pygments_lexer": "ipython3",
   "version": "3.12.4"
  }
 },
 "nbformat": 4,
 "nbformat_minor": 5
}
