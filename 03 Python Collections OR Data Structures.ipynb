{
 "cells": [
  {
   "cell_type": "markdown",
   "id": "750ca81a-2eea-42cc-a06a-d67b5d2093a6",
   "metadata": {},
   "source": [
    "# Data Structures in Python"
   ]
  },
  {
   "cell_type": "markdown",
   "id": "4b511669-6a4f-48b3-8611-6f367fc59ffe",
   "metadata": {},
   "source": [
    "## List"
   ]
  },
  {
   "cell_type": "markdown",
   "id": "17bd87da-8122-4ce9-84ed-acba57c47cbc",
   "metadata": {},
   "source": [
    "#### Theory"
   ]
  },
  {
   "cell_type": "markdown",
   "id": "e5b6f0c2-daa7-4769-9eeb-5daa15667ab1",
   "metadata": {},
   "source": [
    "Definition:\n",
    "List is a collection of ordered elements that can contain duplicate items and can be modified.\n",
    "\n",
    "- Properties:\n",
    "\n",
    "    - Ordered: Elements have a defined order.\n",
    "    - Mutable: Can be changed after creation.\n",
    "    - Allow duplicates: Can contain duplicate elements.\n",
    "    - Indexed: Access elements via zero-based indexing.\n",
    "\n",
    "- Common Methods:\n",
    "\n",
    "    - append(x): Add an item x to the end.\n",
    "    - extend(iterable): Extend list by appending elements from an iterable.\n",
    "    - insert(i, x): Insert an item x at a given position i.\n",
    "    - remove(x): Remove the first item whose value is equal to x.\n",
    "    - pop([i]): Remove and return item at position i (or the last item if i is not specified).\n",
    "    - sort(key=None, reverse=False): Sort items in ascending order (or as specified by key and reverse).\n",
    "    - reverse(): Reverse the elements of the list in place.\n",
    "    - copy(): Return a shallow copy of the list."
   ]
  },
  {
   "cell_type": "markdown",
   "id": "bd153546-daee-450e-9c9a-8655e852fc94",
   "metadata": {
    "jp-MarkdownHeadingCollapsed": true
   },
   "source": [
    "#### Programs"
   ]
  },
  {
   "cell_type": "code",
   "execution_count": 3,
   "id": "0044bb8e-94fc-4316-afa5-6550bb722846",
   "metadata": {},
   "outputs": [],
   "source": [
    "list1 = [1, 5, \"Mahesh\", \"Umale\", \"India1\"]"
   ]
  },
  {
   "cell_type": "code",
   "execution_count": 4,
   "id": "c146a403-b2ae-48b1-8b7e-b1b2304b7bb6",
   "metadata": {},
   "outputs": [
    {
     "name": "stdout",
     "output_type": "stream",
     "text": [
      "[1, 5, 'Mahesh', 'Umale', 'India1', 'Pune']\n"
     ]
    }
   ],
   "source": [
    "list1.append(\"Pune\")\n",
    "print(list1)"
   ]
  },
  {
   "cell_type": "code",
   "execution_count": 5,
   "id": "f2c96bee-bbe1-4a98-b455-5c9221e2f0e3",
   "metadata": {},
   "outputs": [
    {
     "name": "stdout",
     "output_type": "stream",
     "text": [
      "[1, 5, 'Mahesh', 'Umale', 'India1', 'Pune', 5, 6, 8]\n"
     ]
    }
   ],
   "source": [
    "list2 = [5, 6, 8]\n",
    "\n",
    "list1.extend(list2)\n",
    "print(list1)\n"
   ]
  },
  {
   "cell_type": "code",
   "execution_count": 6,
   "id": "7f062141-3f2e-4e30-8427-bd088f8a0c15",
   "metadata": {},
   "outputs": [
    {
     "name": "stdout",
     "output_type": "stream",
     "text": [
      "[5, 6, 6, 8]\n"
     ]
    }
   ],
   "source": [
    "list2.insert(1, 6) # 1 - position, 6 - value\n",
    "print(list2)"
   ]
  },
  {
   "cell_type": "code",
   "execution_count": 9,
   "id": "cfa0f573-f4b4-4e41-b084-a234077c497c",
   "metadata": {},
   "outputs": [
    {
     "name": "stdout",
     "output_type": "stream",
     "text": [
      "[5, 6, 8]\n"
     ]
    }
   ],
   "source": [
    "list2.remove(6)\n",
    "print(list2)"
   ]
  },
  {
   "cell_type": "code",
   "execution_count": 17,
   "id": "53286737-28b4-4101-bc5b-b3b83dad0770",
   "metadata": {},
   "outputs": [
    {
     "name": "stdout",
     "output_type": "stream",
     "text": [
      "[5, 6, 8]\n"
     ]
    }
   ],
   "source": [
    "for i in range(len(list2)):\n",
    "    if i == 8:\n",
    "        list2.pop(i)\n",
    "print(list2)"
   ]
  },
  {
   "cell_type": "code",
   "execution_count": 16,
   "id": "e9c74571-f33e-40cd-abf0-b4d1e13cc7c6",
   "metadata": {},
   "outputs": [
    {
     "name": "stdout",
     "output_type": "stream",
     "text": [
      "[5, 6, 8]\n"
     ]
    }
   ],
   "source": [
    "print(list2)"
   ]
  },
  {
   "cell_type": "code",
   "execution_count": 22,
   "id": "4524c5ac-94b0-4122-b284-d0d13f220da9",
   "metadata": {},
   "outputs": [
    {
     "name": "stdout",
     "output_type": "stream",
     "text": [
      "[1, 2, 4, 6, 6, 8, 8]\n",
      "[8, 8, 6, 6, 4, 2, 1]\n"
     ]
    }
   ],
   "source": [
    "list4 = [8, 6, 1, 4, 6, 8, 2]\n",
    "list4.sort()\n",
    "print(list4)\n",
    "\n",
    "list4.reverse()\n",
    "print(list4)"
   ]
  },
  {
   "cell_type": "code",
   "execution_count": 25,
   "id": "63601a3a-edea-41e6-bcd8-20fc1d780f08",
   "metadata": {},
   "outputs": [
    {
     "name": "stdout",
     "output_type": "stream",
     "text": [
      "[8, 8, 6, 6, 4, 2, 1]\n"
     ]
    }
   ],
   "source": [
    "list5 = list4.copy()\n",
    "print(list5)"
   ]
  },
  {
   "cell_type": "markdown",
   "id": "77bda7d5-7458-43b6-9401-aeaa0affe3b2",
   "metadata": {},
   "source": [
    "## Tuple"
   ]
  },
  {
   "cell_type": "markdown",
   "id": "381be02e-c778-4471-b4f4-82eac0ccef23",
   "metadata": {},
   "source": [
    "#### Theory"
   ]
  },
  {
   "cell_type": "markdown",
   "id": "539d85aa-27dc-4b1c-9d0b-4bdf546b85c3",
   "metadata": {},
   "source": [
    "- Properties:\n",
    "    - Ordered: Elements have a defined order.\n",
    "    - Immutable: Cannot be changed after creation.\n",
    "    - Allow duplicates: Can contain duplicate elements.\n",
    "    - Indexed: Access elements via zero-based indexing.\n",
    "\n",
    "- Common Methods:\n",
    "\n",
    "    - count(x): Return the number of times x appears in the tuple.\n",
    "    - index(x[, start[, end]]): Return the index of the first occurrence of x (raises ValueError if not found).\n",
    "    - min(): returns minimum value\n",
    "    - max(): returns max value\n",
    "    - count(): returns total number of occurences\n",
    "    - sorted(): sorts the tuple"
   ]
  },
  {
   "cell_type": "markdown",
   "id": "0b2d6a3a-90f7-4fea-8992-73330721ad92",
   "metadata": {},
   "source": [
    "#### Programs"
   ]
  },
  {
   "cell_type": "code",
   "execution_count": 52,
   "id": "8cf4a4c1-1296-4aa7-a3c8-a2fca1f084e4",
   "metadata": {},
   "outputs": [
    {
     "name": "stdout",
     "output_type": "stream",
     "text": [
      "(1, 5, 1, 5, 'Mahesh', 'Umale', 'India1')\n",
      "<class 'tuple'>\n"
     ]
    }
   ],
   "source": [
    "tup1 = (1, 5, 1, 5, \"Mahesh\", \"Umale\", \"India1\")\n",
    "tup2 = [5, 5, 7, 6, 3, 7, 2, 1]\n",
    "print(tup1)\n",
    "print(type(tup1))"
   ]
  },
  {
   "cell_type": "code",
   "execution_count": 28,
   "id": "ffd5f2fa-6d4a-4cd3-b394-f2976ee6f346",
   "metadata": {},
   "outputs": [
    {
     "name": "stdout",
     "output_type": "stream",
     "text": [
      "5\n"
     ]
    }
   ],
   "source": [
    "print(len(tup1))"
   ]
  },
  {
   "cell_type": "code",
   "execution_count": 46,
   "id": "346bd57c-12ed-45e1-a736-5a92a3b1b0d3",
   "metadata": {},
   "outputs": [
    {
     "name": "stdout",
     "output_type": "stream",
     "text": [
      "2\n"
     ]
    }
   ],
   "source": [
    "c = tup1.count(5)\n",
    "print(c)"
   ]
  },
  {
   "cell_type": "code",
   "execution_count": 37,
   "id": "a6cc2992-87af-4275-b826-bc06470f991b",
   "metadata": {},
   "outputs": [
    {
     "name": "stdout",
     "output_type": "stream",
     "text": [
      "4\n"
     ]
    }
   ],
   "source": [
    "print(tup1.index(\"Mahesh\"))"
   ]
  },
  {
   "cell_type": "code",
   "execution_count": 54,
   "id": "31934393-e3aa-439d-81e1-3ace08ad1273",
   "metadata": {},
   "outputs": [
    {
     "name": "stdout",
     "output_type": "stream",
     "text": [
      "1 7\n"
     ]
    }
   ],
   "source": [
    "a = min(tup2)\n",
    "b = max(tup2)\n",
    "print(a, b)"
   ]
  },
  {
   "cell_type": "code",
   "execution_count": 55,
   "id": "9b10f9fb-c7f3-4aa7-82dc-e028b5b0f4a6",
   "metadata": {},
   "outputs": [
    {
     "data": {
      "text/plain": [
       "[1, 2, 3, 5, 5, 6, 7, 7]"
      ]
     },
     "execution_count": 55,
     "metadata": {},
     "output_type": "execute_result"
    }
   ],
   "source": [
    "sorted(tup2)"
   ]
  },
  {
   "cell_type": "markdown",
   "id": "ce59df1e-94e4-4411-a4e9-88f73c259ee6",
   "metadata": {},
   "source": [
    "## Set"
   ]
  },
  {
   "cell_type": "markdown",
   "id": "2c892607-ab88-499a-a6f4-52d0eb3bdecb",
   "metadata": {},
   "source": [
    "#### Theory"
   ]
  },
  {
   "cell_type": "markdown",
   "id": "7e24feb7-b345-44e2-b90f-0e3f2e6866bf",
   "metadata": {},
   "source": [
    "- Properties:\n",
    "\n",
    "    - Unordered: No defined order.\n",
    "    - Mutable: Can be changed after creation.\n",
    "    - No duplicates: Automatically remove duplicate elements.\n",
    "    - Not indexed: Cannot access elements by index.\n",
    "\n",
    "- Common Methods:\n",
    "\n",
    "    - add(x): Add an element x to the set.\n",
    "    - remove(x): Remove element x. Raises KeyError if not present.\n",
    "    - discard(x): Remove element x if it is present.\n",
    "    - pop(): Remove and return an arbitrary element. Raises KeyError if the set is empty.\n",
    "    - clear(): Remove all elements from the set.\n",
    "    - copy(): Return a shallow copy of the set.\n",
    "    - union(*others): Return a new set with elements from the set and all others.\n",
    "    - intersection(*others): Return a new set with elements common to the set and all others.\n",
    "    - difference(*others): Return a new set with elements in the set that are not in the others.\n",
    "    - symmetric_difference(other): Return a new set with elements in either the set or other but not both."
   ]
  },
  {
   "cell_type": "markdown",
   "id": "947c11d3-88ce-4863-9143-0d96834a33ba",
   "metadata": {},
   "source": [
    "#### Programs"
   ]
  },
  {
   "cell_type": "code",
   "execution_count": 46,
   "id": "ccc46cd6-8093-4014-9f3f-88c16274e98b",
   "metadata": {},
   "outputs": [],
   "source": [
    "set1 = {1, 5, \"Mahesh\", \"Umale\", \"India1\"}\n",
    "set2 = {5, 6, 7, 2, 1, 4}"
   ]
  },
  {
   "cell_type": "code",
   "execution_count": 24,
   "id": "9e05c2ef-af9b-4e6b-9c6d-2464c35d629b",
   "metadata": {},
   "outputs": [],
   "source": [
    "set1.add(6)"
   ]
  },
  {
   "cell_type": "code",
   "execution_count": 25,
   "id": "99fb1403-bd28-4dec-a821-3e4eb5f43e53",
   "metadata": {},
   "outputs": [
    {
     "name": "stdout",
     "output_type": "stream",
     "text": [
      "{1, 'Umale', 'Mahesh', 5, 6, 'India1'}\n"
     ]
    }
   ],
   "source": [
    "print(set1)"
   ]
  },
  {
   "cell_type": "code",
   "execution_count": 26,
   "id": "3f73b945-342a-4d50-95b1-28ecead936f4",
   "metadata": {},
   "outputs": [],
   "source": [
    "set1.remove(5)"
   ]
  },
  {
   "cell_type": "code",
   "execution_count": 27,
   "id": "adc49d04-66f4-4198-a239-651466c19c40",
   "metadata": {},
   "outputs": [
    {
     "name": "stdout",
     "output_type": "stream",
     "text": [
      "{1, 'Umale', 'Mahesh', 6, 'India1'}\n"
     ]
    }
   ],
   "source": [
    "print(set1)"
   ]
  },
  {
   "cell_type": "code",
   "execution_count": 37,
   "id": "3d05a87f-c1f5-4162-b8b5-ae7390739a8c",
   "metadata": {},
   "outputs": [
    {
     "name": "stdout",
     "output_type": "stream",
     "text": [
      "{1, 'Umale', 'Mahesh', 5, 'India1'}\n",
      "{1, 'Mahesh', 5, 'India1'}\n"
     ]
    }
   ],
   "source": [
    "print(set1)\n",
    "set1.discard(\"Umale\")\n",
    "print(set1)"
   ]
  },
  {
   "cell_type": "code",
   "execution_count": 38,
   "id": "544358a1-4737-4dbf-9120-9af853cd4bee",
   "metadata": {},
   "outputs": [
    {
     "data": {
      "text/plain": [
       "1"
      ]
     },
     "execution_count": 38,
     "metadata": {},
     "output_type": "execute_result"
    }
   ],
   "source": [
    "set1.pop()"
   ]
  },
  {
   "cell_type": "code",
   "execution_count": 39,
   "id": "83842587-33f0-491d-9e9e-fca29e61c6d4",
   "metadata": {},
   "outputs": [
    {
     "name": "stdout",
     "output_type": "stream",
     "text": [
      "{'Mahesh', 5, 'India1'}\n"
     ]
    }
   ],
   "source": [
    "print(set1)"
   ]
  },
  {
   "cell_type": "code",
   "execution_count": 41,
   "id": "1d4773e4-76cc-4b40-aa10-ba5073a2944b",
   "metadata": {},
   "outputs": [],
   "source": [
    "set3 = set1.copy()"
   ]
  },
  {
   "cell_type": "code",
   "execution_count": 42,
   "id": "164da6d9-fa8f-4c33-ae69-3ea28aec35e3",
   "metadata": {},
   "outputs": [
    {
     "name": "stdout",
     "output_type": "stream",
     "text": [
      "{'India1', 'Mahesh', 5}\n"
     ]
    }
   ],
   "source": [
    "print(set3)"
   ]
  },
  {
   "cell_type": "code",
   "execution_count": 44,
   "id": "1c0ea717-fb33-4e27-8bb3-22a32f18d0fe",
   "metadata": {},
   "outputs": [],
   "source": [
    "set3 = set1.union(set2)"
   ]
  },
  {
   "cell_type": "code",
   "execution_count": 45,
   "id": "12ef7add-24d6-4935-ab33-b7c579e20baf",
   "metadata": {},
   "outputs": [
    {
     "name": "stdout",
     "output_type": "stream",
     "text": [
      "{1, 2, 'Mahesh', 5, 4, 6, 7, 'India1'}\n"
     ]
    }
   ],
   "source": [
    "print(set3)"
   ]
  },
  {
   "cell_type": "code",
   "execution_count": 47,
   "id": "12710f26-3459-4458-a3c0-aa5956771fc2",
   "metadata": {},
   "outputs": [
    {
     "data": {
      "text/plain": [
       "{1, 5}"
      ]
     },
     "execution_count": 47,
     "metadata": {},
     "output_type": "execute_result"
    }
   ],
   "source": [
    "set1.intersection(set2)"
   ]
  },
  {
   "cell_type": "code",
   "execution_count": 48,
   "id": "c0cc0f43-79b4-4d99-b6e0-e5ee1cba5f53",
   "metadata": {},
   "outputs": [
    {
     "data": {
      "text/plain": [
       "{'India1', 'Mahesh', 'Umale'}"
      ]
     },
     "execution_count": 48,
     "metadata": {},
     "output_type": "execute_result"
    }
   ],
   "source": [
    "set1.difference(set2)"
   ]
  },
  {
   "cell_type": "code",
   "execution_count": 49,
   "id": "f18f10e9-f4e3-4023-8a45-1269123853cc",
   "metadata": {},
   "outputs": [
    {
     "data": {
      "text/plain": [
       "{2, 4, 6, 7, 'India1', 'Mahesh', 'Umale'}"
      ]
     },
     "execution_count": 49,
     "metadata": {},
     "output_type": "execute_result"
    }
   ],
   "source": [
    "set1.symmetric_difference(set2)"
   ]
  },
  {
   "cell_type": "markdown",
   "id": "82d85242-f16b-4d8a-9607-86ec2fd37b67",
   "metadata": {},
   "source": [
    "## Dictionary"
   ]
  },
  {
   "cell_type": "markdown",
   "id": "dff7a4ca-309f-4707-88cf-908b39f01267",
   "metadata": {},
   "source": [
    "#### Theory"
   ]
  },
  {
   "cell_type": "markdown",
   "id": "f3962a3d-1477-4206-b5c7-929d04bf2bac",
   "metadata": {},
   "source": [
    "- Properties:\n",
    "\n",
    "    - Unordered (as of Python 3.7+, dictionaries preserve insertion order but this is an implementation detail rather than a language guarantee).\n",
    "    - Mutable: Can be changed after creation.\n",
    "    - Key-value pairs: Store items in key-value pairs.\n",
    "    - Keys are unique: Keys must be unique and immutable.\n",
    "\n",
    "- Common Methods:\n",
    "\n",
    "    - get(key, default=None): Return the value for key if key is in the dictionary; otherwise, return default.\n",
    "    - keys(): Return a view object that displays a list of all the keys.\n",
    "    - values(): Return a view object that displays a list of all the values.\n",
    "    - items(): Return a view object that displays a list of a dictionary's key-value tuple pairs.\n",
    "    - update([other]): Update the dictionary with elements from another dictionary or iterable of key-value pairs.\n",
    "    - pop(key, default=None): Remove and return the value for key. If key is not found, return default (raises KeyError if default is not provided).\n",
    "    - popitem(): Remove and return an arbitrary (key, value) pair. Raises KeyError if the dictionary is empty.\n",
    "    - setdefault(key, default=None): Return the value of key if it is in the dictionary. If not, insert key with a value of default and return default.\n",
    "    - clear(): Remove all items from the dictionary.\n",
    "    - copy(): Return a shallow copy of the dictionary."
   ]
  },
  {
   "cell_type": "markdown",
   "id": "b3b56048-b62a-4fea-a233-fa542c7d7aed",
   "metadata": {},
   "source": [
    "#### Programs"
   ]
  },
  {
   "cell_type": "code",
   "execution_count": 52,
   "id": "4a3b1b95-aaa0-4d0d-aa3c-42039c24f52a",
   "metadata": {},
   "outputs": [],
   "source": [
    "list1 = [1, 2, 3, 6, 4, 10, 8]\n",
    "dict1 = {1: \"Mahesh\", 2: \"Umale\", 3:\"Pune\", 4:\"MH\", 5:\"India\"}\n",
    "dict2 = {6: [1, 2, 3, 4, 6], 7:(1, 2, 3, 4, 5), 8:list1}"
   ]
  },
  {
   "cell_type": "code",
   "execution_count": 53,
   "id": "3e652d55-a9f0-4612-9106-84f91656246c",
   "metadata": {},
   "outputs": [
    {
     "data": {
      "text/plain": [
       "'Umale'"
      ]
     },
     "execution_count": 53,
     "metadata": {},
     "output_type": "execute_result"
    }
   ],
   "source": [
    "dict1.get(2)"
   ]
  },
  {
   "cell_type": "code",
   "execution_count": 54,
   "id": "0f03cd05-d53e-4a6a-a59c-cf5c26aa27e0",
   "metadata": {},
   "outputs": [
    {
     "data": {
      "text/plain": [
       "dict_keys([1, 2, 3, 4, 5])"
      ]
     },
     "execution_count": 54,
     "metadata": {},
     "output_type": "execute_result"
    }
   ],
   "source": [
    "dict1.keys()"
   ]
  },
  {
   "cell_type": "code",
   "execution_count": 56,
   "id": "c1f2c16f-66f8-4e94-9035-f1f7a21daa14",
   "metadata": {},
   "outputs": [
    {
     "data": {
      "text/plain": [
       "dict_values(['Mahesh', 'Umale', 'Pune', 'MH', 'India'])"
      ]
     },
     "execution_count": 56,
     "metadata": {},
     "output_type": "execute_result"
    }
   ],
   "source": [
    "dict1.values()"
   ]
  },
  {
   "cell_type": "code",
   "execution_count": 61,
   "id": "59423693-e088-4cdd-973f-2331f06e46e7",
   "metadata": {},
   "outputs": [
    {
     "name": "stdout",
     "output_type": "stream",
     "text": [
      "dict_items([(1, 'Mahesh'), (2, 'Umale'), (3, 'Pune'), (4, 'MH'), (5, 'India')])\n",
      "<class 'dict_items'>\n"
     ]
    }
   ],
   "source": [
    "print(dict1.items())\n",
    "print(type(dict1.items()))"
   ]
  },
  {
   "cell_type": "code",
   "execution_count": 64,
   "id": "69c06b9a-7d5c-4a20-af28-fe27a69b1bdd",
   "metadata": {},
   "outputs": [],
   "source": [
    "dict1.update(dict2)"
   ]
  },
  {
   "cell_type": "code",
   "execution_count": 65,
   "id": "2b586d54-2a57-4d80-8061-4e6d283a5647",
   "metadata": {},
   "outputs": [
    {
     "name": "stdout",
     "output_type": "stream",
     "text": [
      "{1: 'Mahesh', 2: 'Umale', 3: 'Pune', 4: 'MH', 5: 'India', 6: [1, 2, 3, 4, 6], 7: (1, 2, 3, 4, 5), 8: [1, 2, 3, 6, 4, 10, 8]}\n"
     ]
    }
   ],
   "source": [
    "print(dict1)"
   ]
  },
  {
   "cell_type": "code",
   "execution_count": 66,
   "id": "f1a41d72-bcda-4e1e-b003-c7da0a13bae3",
   "metadata": {},
   "outputs": [
    {
     "data": {
      "text/plain": [
       "[1, 2, 3, 4, 6]"
      ]
     },
     "execution_count": 66,
     "metadata": {},
     "output_type": "execute_result"
    }
   ],
   "source": [
    "dict1.pop(6)"
   ]
  },
  {
   "cell_type": "code",
   "execution_count": 69,
   "id": "57f9036d-b9fc-4625-99c9-5de48ce3ca1f",
   "metadata": {},
   "outputs": [
    {
     "data": {
      "text/plain": [
       "(7, (1, 2, 3, 4, 5))"
      ]
     },
     "execution_count": 69,
     "metadata": {},
     "output_type": "execute_result"
    }
   ],
   "source": [
    "dict1.popitem()"
   ]
  },
  {
   "cell_type": "code",
   "execution_count": 70,
   "id": "85d2ecc0-09d3-435b-86b0-95a2d2c4b001",
   "metadata": {},
   "outputs": [
    {
     "name": "stdout",
     "output_type": "stream",
     "text": [
      "{1: 'Mahesh', 2: 'Umale', 3: 'Pune', 4: 'MH', 5: 'India'}\n"
     ]
    }
   ],
   "source": [
    "print(dict1)"
   ]
  },
  {
   "cell_type": "code",
   "execution_count": null,
   "id": "566503ae-3a9c-44bc-9a39-70e872077d4b",
   "metadata": {},
   "outputs": [],
   "source": [
    "Tips:\n",
    "\n",
    "Ordered = List, Tuple\n",
    "Unordered = Set, Dict\n",
    "Mutable = List, Set, Dict\n",
    "Immutable = Tuple\n",
    "Duplicates = List, Tuple"
   ]
  },
  {
   "cell_type": "markdown",
   "id": "d6df7ae0-e20d-4d12-b4f7-639cf18a8670",
   "metadata": {},
   "source": [
    "#### Explore more to ace in your career ! Good Luck !!"
   ]
  }
 ],
 "metadata": {
  "kernelspec": {
   "display_name": "Python 3 (ipykernel)",
   "language": "python",
   "name": "python3"
  },
  "language_info": {
   "codemirror_mode": {
    "name": "ipython",
    "version": 3
   },
   "file_extension": ".py",
   "mimetype": "text/x-python",
   "name": "python",
   "nbconvert_exporter": "python",
   "pygments_lexer": "ipython3",
   "version": "3.12.4"
  }
 },
 "nbformat": 4,
 "nbformat_minor": 5
}
