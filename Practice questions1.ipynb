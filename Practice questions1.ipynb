{
 "cells": [
  {
   "cell_type": "markdown",
   "id": "cfdf1576-390f-4310-9c94-aa759111088f",
   "metadata": {},
   "source": [
    "## Scenarios questions"
   ]
  },
  {
   "cell_type": "code",
   "execution_count": 4,
   "id": "6409cf07-3513-4274-af43-8edb1e631d2f",
   "metadata": {},
   "outputs": [
    {
     "data": {
      "text/plain": [
       "[6, 10]"
      ]
     },
     "execution_count": 4,
     "metadata": {},
     "output_type": "execute_result"
    }
   ],
   "source": [
    "'''\n",
    "1. Given a list of N numbers, use single list comprehension to produce\n",
    "a. Even numbers\n",
    "b. Their indices\n",
    "'''\n",
    "\n",
    "list1 = [1, 3, 5, 7, 6, 8, 9, 12, 10]\n",
    "[x for x in list1[::2] if x %2==0]"
   ]
  },
  {
   "cell_type": "code",
   "execution_count": 7,
   "id": "522fefbd-0830-47d6-8b87-b4f47501928d",
   "metadata": {},
   "outputs": [
    {
     "name": "stdout",
     "output_type": "stream",
     "text": [
      "['a', 'b', 'c', 'd', 'e']\n"
     ]
    }
   ],
   "source": [
    "'''\n",
    "2. How would you produce a list with unique elements from a list with duplicate elements in sorted order?s\n",
    "'''\n",
    "duplicates = ['a', 'b', 'c','c', 'd', 'd', 'd', 'e'] \n",
    "\n",
    "unique_list = set(duplicates)\n",
    "print(sorted(unique_list))"
   ]
  },
  {
   "cell_type": "code",
   "execution_count": null,
   "id": "76609fd4-ccbe-4932-9c03-72e239c6195b",
   "metadata": {},
   "outputs": [],
   "source": [
    "'''\n",
    "3. How exception handling is diff in python as compared to Java.\n",
    "\n",
    "Sol. - \n",
    "In Python, exception handling uses try, except, else, and finally, \n",
    "and all exceptions are unchecked. Python allows multiple exceptions\n",
    "to be caught in a single except block and does not require exceptions\n",
    "to be declared in method signatures. Java, on the other hand, uses try,\n",
    "catch, finally, throw, and throws, with checked exceptions that must be declared or caught.\n",
    "Java’s syntax is more verbose and requires explicit handling of exceptions in method signatures.\n",
    "\n",
    "In corporate projects, several exception subclasses of the Exception class are commonly used to handle specific error scenarios. Here are some of the most frequently encountered ones:\n",
    "\n",
    "ValueError: Incorrect value passed to a function.\n",
    "TypeError: Operation applied to an inappropriate type.\n",
    "KeyError: Dictionary key not found.\n",
    "IndexError: Index is out of range.\n",
    "FileNotFoundError: File does not exist.\n",
    "AttributeError: Access to a nonexistent attribute.\n",
    "ImportError: Module or package cannot be imported.\n",
    "ConnectionError: Issues with network connection.\n",
    "TimeoutError: Operation exceeded time limit.\n",
    "PermissionError: Insufficient permissions for an operation.\n",
    "\n",
    "'''"
   ]
  },
  {
   "cell_type": "code",
   "execution_count": 8,
   "id": "9025e5d7-635e-4ed6-a16f-a6e60a54c7f5",
   "metadata": {},
   "outputs": [
    {
     "name": "stdout",
     "output_type": "stream",
     "text": [
      "2\n"
     ]
    }
   ],
   "source": [
    "'''\n",
    "4. How to count the occurences of a particular element in the list?\n",
    "\n",
    "'''\n",
    "list2 = ['a', 'b', 'c','c', 'd', 'd', 'd', 'e'] \n",
    "print(list2.count('c'))"
   ]
  },
  {
   "cell_type": "code",
   "execution_count": 12,
   "id": "f11996c5-609e-4fc3-95f2-54db1a489088",
   "metadata": {},
   "outputs": [
    {
     "data": {
      "text/plain": [
       "array([], shape=(0, 0), dtype=float64)"
      ]
     },
     "execution_count": 12,
     "metadata": {},
     "output_type": "execute_result"
    }
   ],
   "source": [
    "'''\n",
    "5. How to create empty NumPy array?\n",
    "\n",
    "'''\n",
    "import numpy as np\n",
    "\n",
    "np.array([]) # 1\n",
    "\n",
    "np.empty(shape=(0,0)) # 2"
   ]
  },
  {
   "cell_type": "code",
   "execution_count": 13,
   "id": "60eca695-a8ae-4ab5-a83f-660e91ccba1f",
   "metadata": {},
   "outputs": [
    {
     "name": "stdout",
     "output_type": "stream",
     "text": [
      "['P', 'y', 't', 'h', 'o', 'n']\n"
     ]
    }
   ],
   "source": [
    "'''\n",
    "6. What is the right way to transform a Python string into a list\n",
    "\n",
    "'''\n",
    "\n",
    "print(list(\"Python\"))"
   ]
  },
  {
   "cell_type": "code",
   "execution_count": 14,
   "id": "c002f9ff-4a42-42ab-84ea-e8f715e95b90",
   "metadata": {},
   "outputs": [
    {
     "name": "stdout",
     "output_type": "stream",
     "text": [
      "0 Python\n",
      "1 Java\n",
      "2 C\n"
     ]
    }
   ],
   "source": [
    "'''\n",
    "7. What is enumerate() function in python?\n",
    "\n",
    "Sol. - enumerate() function adds a counter to an iterable object. It can accept sequential indices starting from zero.\n",
    "\n",
    "'''\n",
    "\n",
    "subs = ['Python', 'Java', 'C']\n",
    "\n",
    "for i, sub in enumerate(subs):\n",
    "    print(i, sub)"
   ]
  },
  {
   "cell_type": "code",
   "execution_count": 21,
   "id": "7675ec2f-4a0a-4d1e-b73c-090446d3c092",
   "metadata": {},
   "outputs": [
    {
     "name": "stdout",
     "output_type": "stream",
     "text": [
      "Global:  10\n",
      "Local:  11\n",
      "Access global:  10\n",
      "Global changed:  12\n",
      "Global after changed:  12\n"
     ]
    }
   ],
   "source": [
    "'''\n",
    "8. How to set a global variable inside a function\n",
    "\n",
    "'''\n",
    "\n",
    "ci1 = 10\n",
    "\n",
    "def meth():\n",
    "    ci1= 11\n",
    "    print(\"Local: \", ci1)\n",
    "def meth2():\n",
    "    global ci1\n",
    "    \n",
    "    print(\"Access global: \", ci1)\n",
    "    ci1 = 12\n",
    "    print(\"Global changed: \", ci1)\n",
    "    \n",
    "print(\"Global: \", ci1)\n",
    "meth()\n",
    "meth2()\n",
    "print(\"Global after changed: \", ci1)"
   ]
  },
  {
   "cell_type": "code",
   "execution_count": 30,
   "id": "c11f0086-3823-4652-b8b7-c64bc0dae237",
   "metadata": {},
   "outputs": [
    {
     "name": "stdout",
     "output_type": "stream",
     "text": [
      "5\n"
     ]
    }
   ],
   "source": [
    "'''\n",
    "9. Write a program to find average of numbers from a list/\n",
    "\n",
    "'''\n",
    "\n",
    "list1 = [5, 5, 8, 7, 3, 2]\n",
    "sum = 0\n",
    "\n",
    "for i in range(len(list1)):\n",
    "    sum = sum + list1[i]\n",
    "print(round(sum/len(list1)))"
   ]
  },
  {
   "cell_type": "code",
   "execution_count": 34,
   "id": "528da6b1-d7a2-4fd8-9538-2afc949c90a5",
   "metadata": {},
   "outputs": [
    {
     "name": "stdout",
     "output_type": "stream",
     "text": [
      "10\n",
      "10\n",
      "11\n"
     ]
    }
   ],
   "source": [
    "a = 10.5\n",
    "b = 10.4\n",
    "c = 10.6\n",
    "\n",
    "print(round(a))\n",
    "print(round(b))\n",
    "print(round(c))"
   ]
  },
  {
   "cell_type": "code",
   "execution_count": 55,
   "id": "fc80e080-1023-4e7b-afac-232798d6e7c3",
   "metadata": {},
   "outputs": [
    {
     "name": "stdout",
     "output_type": "stream",
     "text": [
      "7\n"
     ]
    }
   ],
   "source": [
    "'''\n",
    "10. Write a program to find second largest element in the list.\n",
    "'''\n",
    "list1 = [5, 5, 8, 7, 3, 2]\n",
    "\n",
    "list1.sort()\n",
    "count1 = len(list1)\n",
    "\n",
    "print(list1[count1-2])\n"
   ]
  },
  {
   "cell_type": "code",
   "execution_count": 56,
   "id": "0f93e337-6ad7-436a-959c-239e3cc131d5",
   "metadata": {},
   "outputs": [
    {
     "name": "stdout",
     "output_type": "stream",
     "text": [
      "{'c', 'e', 'a', 'd', 'b', 's'}\n",
      "2\n"
     ]
    }
   ],
   "source": [
    "'''\n",
    "11. Write a program to count vowels in a list of characters\n",
    "\n",
    "'''\n",
    "\n",
    "alpha = ['a', 'b', 'c', 'd', 'e', 's', 'e', 'a']\n",
    "\n",
    "vowels = ['a', 'e', 'i', 'o', 'u']\n",
    "count = 0\n",
    "alpa = set(alpha)\n",
    "\n",
    "print(alpa)\n",
    "for i in alpa:\n",
    "    if i in vowels:\n",
    "        count = count + 1\n",
    "\n",
    "print(count)"
   ]
  },
  {
   "cell_type": "code",
   "execution_count": null,
   "id": "14116118-e648-4179-b866-298a44c2412d",
   "metadata": {},
   "outputs": [],
   "source": []
  }
 ],
 "metadata": {
  "kernelspec": {
   "display_name": "Python 3 (ipykernel)",
   "language": "python",
   "name": "python3"
  },
  "language_info": {
   "codemirror_mode": {
    "name": "ipython",
    "version": 3
   },
   "file_extension": ".py",
   "mimetype": "text/x-python",
   "name": "python",
   "nbconvert_exporter": "python",
   "pygments_lexer": "ipython3",
   "version": "3.12.4"
  }
 },
 "nbformat": 4,
 "nbformat_minor": 5
}
